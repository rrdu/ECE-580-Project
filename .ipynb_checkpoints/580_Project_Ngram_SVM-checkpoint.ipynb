{
 "cells": [
  {
   "cell_type": "markdown",
   "id": "5df10cb5",
   "metadata": {},
   "source": [
    "# ECE 580 Project Code: N-Gram SVM\n",
    "## Fake News Detection using SVM and TF-IDF\n",
    "- Rebecca Du (rrd17)\n",
    "- Anish Parmar (avp30)"
   ]
  },
  {
   "cell_type": "markdown",
   "id": "7d0511d1-159f-4382-ab69-23772f4d2dbf",
   "metadata": {},
   "source": [
    "## Overview\n",
    "\n",
    "In this notebook, we assess the performance of **SVM (Linear)** with **N-Gram TF-IDF**. \n",
    "\n",
    "We employ the following setup:\n",
    "- **Model**: SVM (Linear)\n",
    "- **Vectorizers**: TF-IDF (bigram, trigram, character n-gram, hybrid)\n",
    "- **Stopwords**: Depends on vectorizer"
   ]
  },
  {
   "cell_type": "markdown",
   "id": "9ac7e06c",
   "metadata": {},
   "source": [
    "# Imports"
   ]
  },
  {
   "cell_type": "code",
   "execution_count": 1,
   "id": "9d9ae61c",
   "metadata": {},
   "outputs": [],
   "source": [
    "import pandas as pd\n",
    "import numpy as np\n",
    "import re\n",
    "from sklearn.model_selection import train_test_split\n",
    "from sklearn.feature_extraction.text import TfidfVectorizer, CountVectorizer\n",
    "import string\n",
    "import nltk\n",
    "from nltk.corpus import stopwords\n",
    "from sklearn.svm import SVC\n",
    "from sklearn.metrics import precision_score, recall_score, f1_score, classification_report, confusion_matrix\n",
    "import matplotlib.pyplot as plt\n",
    "import seaborn as sns\n",
    "from sklearn.naive_bayes import MultinomialNB\n",
    "from sklearn.ensemble import RandomForestClassifier\n",
    "from sklearn.linear_model import LogisticRegression\n",
    "from sklearn.pipeline import FeatureUnion"
   ]
  },
  {
   "cell_type": "code",
   "execution_count": 2,
   "id": "cf4cc541",
   "metadata": {},
   "outputs": [
    {
     "name": "stderr",
     "output_type": "stream",
     "text": [
      "[nltk_data] Downloading package stopwords to C:\\Users\\Anish\n",
      "[nltk_data]     Parmar\\AppData\\Roaming\\nltk_data...\n",
      "[nltk_data]   Package stopwords is already up-to-date!\n"
     ]
    }
   ],
   "source": [
    "#Download NLTK stopwords\n",
    "nltk.download('stopwords')\n",
    "stop_words = set(stopwords.words('english'))"
   ]
  },
  {
   "cell_type": "markdown",
   "id": "ef758acb",
   "metadata": {},
   "source": [
    "# Step 1: Data Preprocessing"
   ]
  },
  {
   "cell_type": "markdown",
   "id": "7e320163",
   "metadata": {},
   "source": [
    "## Overview:\n",
    "\n",
    "We are using the [ISOT Fake News Kaggle Dataset (2016-2017)](https://www.kaggle.com/datasets/clmentbisaillon/fake-and-real-news-dataset). It is a dataset formed by news articles various sources. \n",
    "\n",
    "It is composed of 2 CSV files:\n",
    "- **'Fake.csv'**: 23,481 articles from various unreliable websites\n",
    "- **'True.csv'**: 21,417 articles from Reuters.com\n",
    "\n",
    "Each data point contains the following features:\n",
    "- **Title**: title of the article\n",
    "- **Text**: The full body of text in the article\n",
    "- **Subject**: News, Politics, Other\n",
    "- **Date**: Date of publication in 'Month Day, Year' format"
   ]
  },
  {
   "cell_type": "markdown",
   "id": "1f8ecf69",
   "metadata": {},
   "source": [
    "## Step 1a: Load, Label, Combine Datasets\n",
    "\n",
    "Since the Fake and True datasets are provided separately, we first **assign them labels and concatenate them into one dataframe**, which will be randomized and later used for training and testing our model. "
   ]
  },
  {
   "cell_type": "code",
   "execution_count": 3,
   "id": "1db04855",
   "metadata": {},
   "outputs": [],
   "source": [
    "#Load datasets as dataframes\n",
    "fake_df = pd.read_csv('Data/Fake.csv')\n",
    "true_df = pd.read_csv('Data/True.csv')"
   ]
  },
  {
   "cell_type": "code",
   "execution_count": 4,
   "id": "2075361e",
   "metadata": {},
   "outputs": [
    {
     "data": {
      "text/html": [
       "<div>\n",
       "<style scoped>\n",
       "    .dataframe tbody tr th:only-of-type {\n",
       "        vertical-align: middle;\n",
       "    }\n",
       "\n",
       "    .dataframe tbody tr th {\n",
       "        vertical-align: top;\n",
       "    }\n",
       "\n",
       "    .dataframe thead th {\n",
       "        text-align: right;\n",
       "    }\n",
       "</style>\n",
       "<table border=\"1\" class=\"dataframe\">\n",
       "  <thead>\n",
       "    <tr style=\"text-align: right;\">\n",
       "      <th></th>\n",
       "      <th>title</th>\n",
       "      <th>text</th>\n",
       "      <th>subject</th>\n",
       "      <th>date</th>\n",
       "    </tr>\n",
       "  </thead>\n",
       "  <tbody>\n",
       "    <tr>\n",
       "      <th>0</th>\n",
       "      <td>Donald Trump Sends Out Embarrassing New Year’...</td>\n",
       "      <td>Donald Trump just couldn t wish all Americans ...</td>\n",
       "      <td>News</td>\n",
       "      <td>December 31, 2017</td>\n",
       "    </tr>\n",
       "    <tr>\n",
       "      <th>1</th>\n",
       "      <td>Drunk Bragging Trump Staffer Started Russian ...</td>\n",
       "      <td>House Intelligence Committee Chairman Devin Nu...</td>\n",
       "      <td>News</td>\n",
       "      <td>December 31, 2017</td>\n",
       "    </tr>\n",
       "    <tr>\n",
       "      <th>2</th>\n",
       "      <td>Sheriff David Clarke Becomes An Internet Joke...</td>\n",
       "      <td>On Friday, it was revealed that former Milwauk...</td>\n",
       "      <td>News</td>\n",
       "      <td>December 30, 2017</td>\n",
       "    </tr>\n",
       "    <tr>\n",
       "      <th>3</th>\n",
       "      <td>Trump Is So Obsessed He Even Has Obama’s Name...</td>\n",
       "      <td>On Christmas day, Donald Trump announced that ...</td>\n",
       "      <td>News</td>\n",
       "      <td>December 29, 2017</td>\n",
       "    </tr>\n",
       "    <tr>\n",
       "      <th>4</th>\n",
       "      <td>Pope Francis Just Called Out Donald Trump Dur...</td>\n",
       "      <td>Pope Francis used his annual Christmas Day mes...</td>\n",
       "      <td>News</td>\n",
       "      <td>December 25, 2017</td>\n",
       "    </tr>\n",
       "    <tr>\n",
       "      <th>...</th>\n",
       "      <td>...</td>\n",
       "      <td>...</td>\n",
       "      <td>...</td>\n",
       "      <td>...</td>\n",
       "    </tr>\n",
       "    <tr>\n",
       "      <th>23476</th>\n",
       "      <td>McPain: John McCain Furious That Iran Treated ...</td>\n",
       "      <td>21st Century Wire says As 21WIRE reported earl...</td>\n",
       "      <td>Middle-east</td>\n",
       "      <td>January 16, 2016</td>\n",
       "    </tr>\n",
       "    <tr>\n",
       "      <th>23477</th>\n",
       "      <td>JUSTICE? Yahoo Settles E-mail Privacy Class-ac...</td>\n",
       "      <td>21st Century Wire says It s a familiar theme. ...</td>\n",
       "      <td>Middle-east</td>\n",
       "      <td>January 16, 2016</td>\n",
       "    </tr>\n",
       "    <tr>\n",
       "      <th>23478</th>\n",
       "      <td>Sunnistan: US and Allied ‘Safe Zone’ Plan to T...</td>\n",
       "      <td>Patrick Henningsen  21st Century WireRemember ...</td>\n",
       "      <td>Middle-east</td>\n",
       "      <td>January 15, 2016</td>\n",
       "    </tr>\n",
       "    <tr>\n",
       "      <th>23479</th>\n",
       "      <td>How to Blow $700 Million: Al Jazeera America F...</td>\n",
       "      <td>21st Century Wire says Al Jazeera America will...</td>\n",
       "      <td>Middle-east</td>\n",
       "      <td>January 14, 2016</td>\n",
       "    </tr>\n",
       "    <tr>\n",
       "      <th>23480</th>\n",
       "      <td>10 U.S. Navy Sailors Held by Iranian Military ...</td>\n",
       "      <td>21st Century Wire says As 21WIRE predicted in ...</td>\n",
       "      <td>Middle-east</td>\n",
       "      <td>January 12, 2016</td>\n",
       "    </tr>\n",
       "  </tbody>\n",
       "</table>\n",
       "<p>23481 rows × 4 columns</p>\n",
       "</div>"
      ],
      "text/plain": [
       "                                                   title  \\\n",
       "0       Donald Trump Sends Out Embarrassing New Year’...   \n",
       "1       Drunk Bragging Trump Staffer Started Russian ...   \n",
       "2       Sheriff David Clarke Becomes An Internet Joke...   \n",
       "3       Trump Is So Obsessed He Even Has Obama’s Name...   \n",
       "4       Pope Francis Just Called Out Donald Trump Dur...   \n",
       "...                                                  ...   \n",
       "23476  McPain: John McCain Furious That Iran Treated ...   \n",
       "23477  JUSTICE? Yahoo Settles E-mail Privacy Class-ac...   \n",
       "23478  Sunnistan: US and Allied ‘Safe Zone’ Plan to T...   \n",
       "23479  How to Blow $700 Million: Al Jazeera America F...   \n",
       "23480  10 U.S. Navy Sailors Held by Iranian Military ...   \n",
       "\n",
       "                                                    text      subject  \\\n",
       "0      Donald Trump just couldn t wish all Americans ...         News   \n",
       "1      House Intelligence Committee Chairman Devin Nu...         News   \n",
       "2      On Friday, it was revealed that former Milwauk...         News   \n",
       "3      On Christmas day, Donald Trump announced that ...         News   \n",
       "4      Pope Francis used his annual Christmas Day mes...         News   \n",
       "...                                                  ...          ...   \n",
       "23476  21st Century Wire says As 21WIRE reported earl...  Middle-east   \n",
       "23477  21st Century Wire says It s a familiar theme. ...  Middle-east   \n",
       "23478  Patrick Henningsen  21st Century WireRemember ...  Middle-east   \n",
       "23479  21st Century Wire says Al Jazeera America will...  Middle-east   \n",
       "23480  21st Century Wire says As 21WIRE predicted in ...  Middle-east   \n",
       "\n",
       "                    date  \n",
       "0      December 31, 2017  \n",
       "1      December 31, 2017  \n",
       "2      December 30, 2017  \n",
       "3      December 29, 2017  \n",
       "4      December 25, 2017  \n",
       "...                  ...  \n",
       "23476   January 16, 2016  \n",
       "23477   January 16, 2016  \n",
       "23478   January 15, 2016  \n",
       "23479   January 14, 2016  \n",
       "23480   January 12, 2016  \n",
       "\n",
       "[23481 rows x 4 columns]"
      ]
     },
     "execution_count": 4,
     "metadata": {},
     "output_type": "execute_result"
    }
   ],
   "source": [
    "#Check fake_df\n",
    "fake_df"
   ]
  },
  {
   "cell_type": "code",
   "execution_count": 5,
   "id": "44f17361",
   "metadata": {},
   "outputs": [
    {
     "data": {
      "text/html": [
       "<div>\n",
       "<style scoped>\n",
       "    .dataframe tbody tr th:only-of-type {\n",
       "        vertical-align: middle;\n",
       "    }\n",
       "\n",
       "    .dataframe tbody tr th {\n",
       "        vertical-align: top;\n",
       "    }\n",
       "\n",
       "    .dataframe thead th {\n",
       "        text-align: right;\n",
       "    }\n",
       "</style>\n",
       "<table border=\"1\" class=\"dataframe\">\n",
       "  <thead>\n",
       "    <tr style=\"text-align: right;\">\n",
       "      <th></th>\n",
       "      <th>title</th>\n",
       "      <th>text</th>\n",
       "      <th>subject</th>\n",
       "      <th>date</th>\n",
       "    </tr>\n",
       "  </thead>\n",
       "  <tbody>\n",
       "    <tr>\n",
       "      <th>0</th>\n",
       "      <td>As U.S. budget fight looms, Republicans flip t...</td>\n",
       "      <td>WASHINGTON (Reuters) - The head of a conservat...</td>\n",
       "      <td>politicsNews</td>\n",
       "      <td>December 31, 2017</td>\n",
       "    </tr>\n",
       "    <tr>\n",
       "      <th>1</th>\n",
       "      <td>U.S. military to accept transgender recruits o...</td>\n",
       "      <td>WASHINGTON (Reuters) - Transgender people will...</td>\n",
       "      <td>politicsNews</td>\n",
       "      <td>December 29, 2017</td>\n",
       "    </tr>\n",
       "    <tr>\n",
       "      <th>2</th>\n",
       "      <td>Senior U.S. Republican senator: 'Let Mr. Muell...</td>\n",
       "      <td>WASHINGTON (Reuters) - The special counsel inv...</td>\n",
       "      <td>politicsNews</td>\n",
       "      <td>December 31, 2017</td>\n",
       "    </tr>\n",
       "    <tr>\n",
       "      <th>3</th>\n",
       "      <td>FBI Russia probe helped by Australian diplomat...</td>\n",
       "      <td>WASHINGTON (Reuters) - Trump campaign adviser ...</td>\n",
       "      <td>politicsNews</td>\n",
       "      <td>December 30, 2017</td>\n",
       "    </tr>\n",
       "    <tr>\n",
       "      <th>4</th>\n",
       "      <td>Trump wants Postal Service to charge 'much mor...</td>\n",
       "      <td>SEATTLE/WASHINGTON (Reuters) - President Donal...</td>\n",
       "      <td>politicsNews</td>\n",
       "      <td>December 29, 2017</td>\n",
       "    </tr>\n",
       "    <tr>\n",
       "      <th>...</th>\n",
       "      <td>...</td>\n",
       "      <td>...</td>\n",
       "      <td>...</td>\n",
       "      <td>...</td>\n",
       "    </tr>\n",
       "    <tr>\n",
       "      <th>21412</th>\n",
       "      <td>'Fully committed' NATO backs new U.S. approach...</td>\n",
       "      <td>BRUSSELS (Reuters) - NATO allies on Tuesday we...</td>\n",
       "      <td>worldnews</td>\n",
       "      <td>August 22, 2017</td>\n",
       "    </tr>\n",
       "    <tr>\n",
       "      <th>21413</th>\n",
       "      <td>LexisNexis withdrew two products from Chinese ...</td>\n",
       "      <td>LONDON (Reuters) - LexisNexis, a provider of l...</td>\n",
       "      <td>worldnews</td>\n",
       "      <td>August 22, 2017</td>\n",
       "    </tr>\n",
       "    <tr>\n",
       "      <th>21414</th>\n",
       "      <td>Minsk cultural hub becomes haven from authorities</td>\n",
       "      <td>MINSK (Reuters) - In the shadow of disused Sov...</td>\n",
       "      <td>worldnews</td>\n",
       "      <td>August 22, 2017</td>\n",
       "    </tr>\n",
       "    <tr>\n",
       "      <th>21415</th>\n",
       "      <td>Vatican upbeat on possibility of Pope Francis ...</td>\n",
       "      <td>MOSCOW (Reuters) - Vatican Secretary of State ...</td>\n",
       "      <td>worldnews</td>\n",
       "      <td>August 22, 2017</td>\n",
       "    </tr>\n",
       "    <tr>\n",
       "      <th>21416</th>\n",
       "      <td>Indonesia to buy $1.14 billion worth of Russia...</td>\n",
       "      <td>JAKARTA (Reuters) - Indonesia will buy 11 Sukh...</td>\n",
       "      <td>worldnews</td>\n",
       "      <td>August 22, 2017</td>\n",
       "    </tr>\n",
       "  </tbody>\n",
       "</table>\n",
       "<p>21417 rows × 4 columns</p>\n",
       "</div>"
      ],
      "text/plain": [
       "                                                   title  \\\n",
       "0      As U.S. budget fight looms, Republicans flip t...   \n",
       "1      U.S. military to accept transgender recruits o...   \n",
       "2      Senior U.S. Republican senator: 'Let Mr. Muell...   \n",
       "3      FBI Russia probe helped by Australian diplomat...   \n",
       "4      Trump wants Postal Service to charge 'much mor...   \n",
       "...                                                  ...   \n",
       "21412  'Fully committed' NATO backs new U.S. approach...   \n",
       "21413  LexisNexis withdrew two products from Chinese ...   \n",
       "21414  Minsk cultural hub becomes haven from authorities   \n",
       "21415  Vatican upbeat on possibility of Pope Francis ...   \n",
       "21416  Indonesia to buy $1.14 billion worth of Russia...   \n",
       "\n",
       "                                                    text       subject  \\\n",
       "0      WASHINGTON (Reuters) - The head of a conservat...  politicsNews   \n",
       "1      WASHINGTON (Reuters) - Transgender people will...  politicsNews   \n",
       "2      WASHINGTON (Reuters) - The special counsel inv...  politicsNews   \n",
       "3      WASHINGTON (Reuters) - Trump campaign adviser ...  politicsNews   \n",
       "4      SEATTLE/WASHINGTON (Reuters) - President Donal...  politicsNews   \n",
       "...                                                  ...           ...   \n",
       "21412  BRUSSELS (Reuters) - NATO allies on Tuesday we...     worldnews   \n",
       "21413  LONDON (Reuters) - LexisNexis, a provider of l...     worldnews   \n",
       "21414  MINSK (Reuters) - In the shadow of disused Sov...     worldnews   \n",
       "21415  MOSCOW (Reuters) - Vatican Secretary of State ...     worldnews   \n",
       "21416  JAKARTA (Reuters) - Indonesia will buy 11 Sukh...     worldnews   \n",
       "\n",
       "                     date  \n",
       "0      December 31, 2017   \n",
       "1      December 29, 2017   \n",
       "2      December 31, 2017   \n",
       "3      December 30, 2017   \n",
       "4      December 29, 2017   \n",
       "...                   ...  \n",
       "21412    August 22, 2017   \n",
       "21413    August 22, 2017   \n",
       "21414    August 22, 2017   \n",
       "21415    August 22, 2017   \n",
       "21416    August 22, 2017   \n",
       "\n",
       "[21417 rows x 4 columns]"
      ]
     },
     "execution_count": 5,
     "metadata": {},
     "output_type": "execute_result"
    }
   ],
   "source": [
    "#Check true_df\n",
    "true_df"
   ]
  },
  {
   "cell_type": "code",
   "execution_count": 6,
   "id": "1a247921",
   "metadata": {},
   "outputs": [
    {
     "data": {
      "text/html": [
       "<div>\n",
       "<style scoped>\n",
       "    .dataframe tbody tr th:only-of-type {\n",
       "        vertical-align: middle;\n",
       "    }\n",
       "\n",
       "    .dataframe tbody tr th {\n",
       "        vertical-align: top;\n",
       "    }\n",
       "\n",
       "    .dataframe thead th {\n",
       "        text-align: right;\n",
       "    }\n",
       "</style>\n",
       "<table border=\"1\" class=\"dataframe\">\n",
       "  <thead>\n",
       "    <tr style=\"text-align: right;\">\n",
       "      <th></th>\n",
       "      <th>title</th>\n",
       "      <th>text</th>\n",
       "      <th>subject</th>\n",
       "      <th>date</th>\n",
       "      <th>label</th>\n",
       "    </tr>\n",
       "  </thead>\n",
       "  <tbody>\n",
       "    <tr>\n",
       "      <th>0</th>\n",
       "      <td>Donald Trump Sends Out Embarrassing New Year’...</td>\n",
       "      <td>Donald Trump just couldn t wish all Americans ...</td>\n",
       "      <td>News</td>\n",
       "      <td>December 31, 2017</td>\n",
       "      <td>0</td>\n",
       "    </tr>\n",
       "    <tr>\n",
       "      <th>1</th>\n",
       "      <td>Drunk Bragging Trump Staffer Started Russian ...</td>\n",
       "      <td>House Intelligence Committee Chairman Devin Nu...</td>\n",
       "      <td>News</td>\n",
       "      <td>December 31, 2017</td>\n",
       "      <td>0</td>\n",
       "    </tr>\n",
       "    <tr>\n",
       "      <th>2</th>\n",
       "      <td>Sheriff David Clarke Becomes An Internet Joke...</td>\n",
       "      <td>On Friday, it was revealed that former Milwauk...</td>\n",
       "      <td>News</td>\n",
       "      <td>December 30, 2017</td>\n",
       "      <td>0</td>\n",
       "    </tr>\n",
       "    <tr>\n",
       "      <th>3</th>\n",
       "      <td>Trump Is So Obsessed He Even Has Obama’s Name...</td>\n",
       "      <td>On Christmas day, Donald Trump announced that ...</td>\n",
       "      <td>News</td>\n",
       "      <td>December 29, 2017</td>\n",
       "      <td>0</td>\n",
       "    </tr>\n",
       "    <tr>\n",
       "      <th>4</th>\n",
       "      <td>Pope Francis Just Called Out Donald Trump Dur...</td>\n",
       "      <td>Pope Francis used his annual Christmas Day mes...</td>\n",
       "      <td>News</td>\n",
       "      <td>December 25, 2017</td>\n",
       "      <td>0</td>\n",
       "    </tr>\n",
       "    <tr>\n",
       "      <th>...</th>\n",
       "      <td>...</td>\n",
       "      <td>...</td>\n",
       "      <td>...</td>\n",
       "      <td>...</td>\n",
       "      <td>...</td>\n",
       "    </tr>\n",
       "    <tr>\n",
       "      <th>44893</th>\n",
       "      <td>'Fully committed' NATO backs new U.S. approach...</td>\n",
       "      <td>BRUSSELS (Reuters) - NATO allies on Tuesday we...</td>\n",
       "      <td>worldnews</td>\n",
       "      <td>August 22, 2017</td>\n",
       "      <td>1</td>\n",
       "    </tr>\n",
       "    <tr>\n",
       "      <th>44894</th>\n",
       "      <td>LexisNexis withdrew two products from Chinese ...</td>\n",
       "      <td>LONDON (Reuters) - LexisNexis, a provider of l...</td>\n",
       "      <td>worldnews</td>\n",
       "      <td>August 22, 2017</td>\n",
       "      <td>1</td>\n",
       "    </tr>\n",
       "    <tr>\n",
       "      <th>44895</th>\n",
       "      <td>Minsk cultural hub becomes haven from authorities</td>\n",
       "      <td>MINSK (Reuters) - In the shadow of disused Sov...</td>\n",
       "      <td>worldnews</td>\n",
       "      <td>August 22, 2017</td>\n",
       "      <td>1</td>\n",
       "    </tr>\n",
       "    <tr>\n",
       "      <th>44896</th>\n",
       "      <td>Vatican upbeat on possibility of Pope Francis ...</td>\n",
       "      <td>MOSCOW (Reuters) - Vatican Secretary of State ...</td>\n",
       "      <td>worldnews</td>\n",
       "      <td>August 22, 2017</td>\n",
       "      <td>1</td>\n",
       "    </tr>\n",
       "    <tr>\n",
       "      <th>44897</th>\n",
       "      <td>Indonesia to buy $1.14 billion worth of Russia...</td>\n",
       "      <td>JAKARTA (Reuters) - Indonesia will buy 11 Sukh...</td>\n",
       "      <td>worldnews</td>\n",
       "      <td>August 22, 2017</td>\n",
       "      <td>1</td>\n",
       "    </tr>\n",
       "  </tbody>\n",
       "</table>\n",
       "<p>44898 rows × 5 columns</p>\n",
       "</div>"
      ],
      "text/plain": [
       "                                                   title  \\\n",
       "0       Donald Trump Sends Out Embarrassing New Year’...   \n",
       "1       Drunk Bragging Trump Staffer Started Russian ...   \n",
       "2       Sheriff David Clarke Becomes An Internet Joke...   \n",
       "3       Trump Is So Obsessed He Even Has Obama’s Name...   \n",
       "4       Pope Francis Just Called Out Donald Trump Dur...   \n",
       "...                                                  ...   \n",
       "44893  'Fully committed' NATO backs new U.S. approach...   \n",
       "44894  LexisNexis withdrew two products from Chinese ...   \n",
       "44895  Minsk cultural hub becomes haven from authorities   \n",
       "44896  Vatican upbeat on possibility of Pope Francis ...   \n",
       "44897  Indonesia to buy $1.14 billion worth of Russia...   \n",
       "\n",
       "                                                    text    subject  \\\n",
       "0      Donald Trump just couldn t wish all Americans ...       News   \n",
       "1      House Intelligence Committee Chairman Devin Nu...       News   \n",
       "2      On Friday, it was revealed that former Milwauk...       News   \n",
       "3      On Christmas day, Donald Trump announced that ...       News   \n",
       "4      Pope Francis used his annual Christmas Day mes...       News   \n",
       "...                                                  ...        ...   \n",
       "44893  BRUSSELS (Reuters) - NATO allies on Tuesday we...  worldnews   \n",
       "44894  LONDON (Reuters) - LexisNexis, a provider of l...  worldnews   \n",
       "44895  MINSK (Reuters) - In the shadow of disused Sov...  worldnews   \n",
       "44896  MOSCOW (Reuters) - Vatican Secretary of State ...  worldnews   \n",
       "44897  JAKARTA (Reuters) - Indonesia will buy 11 Sukh...  worldnews   \n",
       "\n",
       "                    date  label  \n",
       "0      December 31, 2017      0  \n",
       "1      December 31, 2017      0  \n",
       "2      December 30, 2017      0  \n",
       "3      December 29, 2017      0  \n",
       "4      December 25, 2017      0  \n",
       "...                  ...    ...  \n",
       "44893   August 22, 2017       1  \n",
       "44894   August 22, 2017       1  \n",
       "44895   August 22, 2017       1  \n",
       "44896   August 22, 2017       1  \n",
       "44897   August 22, 2017       1  \n",
       "\n",
       "[44898 rows x 5 columns]"
      ]
     },
     "execution_count": 6,
     "metadata": {},
     "output_type": "execute_result"
    }
   ],
   "source": [
    "#Label fake_df values as '0', true_df values as '1'\n",
    "fake_df['label'] = 0\n",
    "true_df['label'] = 1\n",
    "\n",
    "#Combine datasets into one\n",
    "data = pd.concat([fake_df, true_df], ignore_index=True)\n",
    "\n",
    "#Check data\n",
    "data"
   ]
  },
  {
   "cell_type": "markdown",
   "id": "9633831f",
   "metadata": {},
   "source": [
    "## Step 1b: Combine Relevant Columns into 'Content'\n",
    "\n",
    "Since we are mostly focused on the content of the articles, we will combine the title with the text columns and drop everything except the 'content' and 'label' columns"
   ]
  },
  {
   "cell_type": "code",
   "execution_count": 7,
   "id": "0cf76b64",
   "metadata": {},
   "outputs": [
    {
     "data": {
      "text/html": [
       "<div>\n",
       "<style scoped>\n",
       "    .dataframe tbody tr th:only-of-type {\n",
       "        vertical-align: middle;\n",
       "    }\n",
       "\n",
       "    .dataframe tbody tr th {\n",
       "        vertical-align: top;\n",
       "    }\n",
       "\n",
       "    .dataframe thead th {\n",
       "        text-align: right;\n",
       "    }\n",
       "</style>\n",
       "<table border=\"1\" class=\"dataframe\">\n",
       "  <thead>\n",
       "    <tr style=\"text-align: right;\">\n",
       "      <th></th>\n",
       "      <th>label</th>\n",
       "      <th>content</th>\n",
       "    </tr>\n",
       "  </thead>\n",
       "  <tbody>\n",
       "    <tr>\n",
       "      <th>0</th>\n",
       "      <td>0</td>\n",
       "      <td>Donald Trump Sends Out Embarrassing New Year’...</td>\n",
       "    </tr>\n",
       "    <tr>\n",
       "      <th>1</th>\n",
       "      <td>0</td>\n",
       "      <td>Drunk Bragging Trump Staffer Started Russian ...</td>\n",
       "    </tr>\n",
       "    <tr>\n",
       "      <th>2</th>\n",
       "      <td>0</td>\n",
       "      <td>Sheriff David Clarke Becomes An Internet Joke...</td>\n",
       "    </tr>\n",
       "    <tr>\n",
       "      <th>3</th>\n",
       "      <td>0</td>\n",
       "      <td>Trump Is So Obsessed He Even Has Obama’s Name...</td>\n",
       "    </tr>\n",
       "    <tr>\n",
       "      <th>4</th>\n",
       "      <td>0</td>\n",
       "      <td>Pope Francis Just Called Out Donald Trump Dur...</td>\n",
       "    </tr>\n",
       "    <tr>\n",
       "      <th>...</th>\n",
       "      <td>...</td>\n",
       "      <td>...</td>\n",
       "    </tr>\n",
       "    <tr>\n",
       "      <th>44893</th>\n",
       "      <td>1</td>\n",
       "      <td>'Fully committed' NATO backs new U.S. approach...</td>\n",
       "    </tr>\n",
       "    <tr>\n",
       "      <th>44894</th>\n",
       "      <td>1</td>\n",
       "      <td>LexisNexis withdrew two products from Chinese ...</td>\n",
       "    </tr>\n",
       "    <tr>\n",
       "      <th>44895</th>\n",
       "      <td>1</td>\n",
       "      <td>Minsk cultural hub becomes haven from authorit...</td>\n",
       "    </tr>\n",
       "    <tr>\n",
       "      <th>44896</th>\n",
       "      <td>1</td>\n",
       "      <td>Vatican upbeat on possibility of Pope Francis ...</td>\n",
       "    </tr>\n",
       "    <tr>\n",
       "      <th>44897</th>\n",
       "      <td>1</td>\n",
       "      <td>Indonesia to buy $1.14 billion worth of Russia...</td>\n",
       "    </tr>\n",
       "  </tbody>\n",
       "</table>\n",
       "<p>44898 rows × 2 columns</p>\n",
       "</div>"
      ],
      "text/plain": [
       "       label                                            content\n",
       "0          0   Donald Trump Sends Out Embarrassing New Year’...\n",
       "1          0   Drunk Bragging Trump Staffer Started Russian ...\n",
       "2          0   Sheriff David Clarke Becomes An Internet Joke...\n",
       "3          0   Trump Is So Obsessed He Even Has Obama’s Name...\n",
       "4          0   Pope Francis Just Called Out Donald Trump Dur...\n",
       "...      ...                                                ...\n",
       "44893      1  'Fully committed' NATO backs new U.S. approach...\n",
       "44894      1  LexisNexis withdrew two products from Chinese ...\n",
       "44895      1  Minsk cultural hub becomes haven from authorit...\n",
       "44896      1  Vatican upbeat on possibility of Pope Francis ...\n",
       "44897      1  Indonesia to buy $1.14 billion worth of Russia...\n",
       "\n",
       "[44898 rows x 2 columns]"
      ]
     },
     "execution_count": 7,
     "metadata": {},
     "output_type": "execute_result"
    }
   ],
   "source": [
    "#Combine title and text into 'content' column\n",
    "data['content'] = data['title'] + ' ' + data['text']\n",
    "\n",
    "#Drop other columns (except for label)\n",
    "data = data.drop(columns=['title', 'text', 'subject', 'date'])\n",
    "\n",
    "#Check data\n",
    "data"
   ]
  },
  {
   "cell_type": "code",
   "execution_count": 8,
   "id": "d1f46042",
   "metadata": {},
   "outputs": [],
   "source": [
    "preprocessed_data = data\n",
    "with_stopwords_data = data"
   ]
  },
  {
   "cell_type": "markdown",
   "id": "5363eee1",
   "metadata": {},
   "source": [
    "## Step 1c: Text Cleaning\n",
    "\n",
    "Next, we will do some simple cleaning of the 'content' column:\n",
    "- Convert it to lowercase\n",
    "- Remove punctuation\n",
    "- Remove stopwords"
   ]
  },
  {
   "cell_type": "code",
   "execution_count": 9,
   "id": "f484886f",
   "metadata": {},
   "outputs": [],
   "source": [
    "#Create a function for the data preprocessing tasks\n",
    "def preprocessing(text):\n",
    "    #Turn to lowercase\n",
    "    text = text.lower()\n",
    "\n",
    "    #Remove punctuation \n",
    "    text = re.sub(r'[^\\w\\s]', '', text)\n",
    "\n",
    "    #Remove stopwords\n",
    "    #Split text into individual words\n",
    "    split_text = text.split()\n",
    "    cleaned_text = []\n",
    "    \n",
    "    for word in split_text:\n",
    "        if word not in stop_words:\n",
    "            #Only keep non-stop word words\n",
    "            cleaned_text.append(word)\n",
    "\n",
    "    #Recombine into one string\n",
    "    rejoined_text = ' '.join(cleaned_text)\n",
    "\n",
    "    return rejoined_text"
   ]
  },
  {
   "cell_type": "code",
   "execution_count": 10,
   "id": "80c81e7d",
   "metadata": {},
   "outputs": [],
   "source": [
    "def preprocessing_no_stopwords_removal(text):\n",
    "    # Turn to lowercase\n",
    "    text = text.lower()\n",
    "\n",
    "    # Remove punctuation (keeps only word characters and spaces)\n",
    "    text = re.sub(r'[^\\w\\s]', '', text)\n",
    "\n",
    "    # Optional: Normalize whitespace\n",
    "    text = re.sub(r'\\s+', ' ', text).strip()\n",
    "\n",
    "    return text"
   ]
  },
  {
   "cell_type": "code",
   "execution_count": 11,
   "id": "5bb9f124",
   "metadata": {},
   "outputs": [
    {
     "data": {
      "text/html": [
       "<div>\n",
       "<style scoped>\n",
       "    .dataframe tbody tr th:only-of-type {\n",
       "        vertical-align: middle;\n",
       "    }\n",
       "\n",
       "    .dataframe tbody tr th {\n",
       "        vertical-align: top;\n",
       "    }\n",
       "\n",
       "    .dataframe thead th {\n",
       "        text-align: right;\n",
       "    }\n",
       "</style>\n",
       "<table border=\"1\" class=\"dataframe\">\n",
       "  <thead>\n",
       "    <tr style=\"text-align: right;\">\n",
       "      <th></th>\n",
       "      <th>label</th>\n",
       "      <th>content</th>\n",
       "    </tr>\n",
       "  </thead>\n",
       "  <tbody>\n",
       "    <tr>\n",
       "      <th>0</th>\n",
       "      <td>0</td>\n",
       "      <td>donald trump sends embarrassing new years eve ...</td>\n",
       "    </tr>\n",
       "    <tr>\n",
       "      <th>1</th>\n",
       "      <td>0</td>\n",
       "      <td>drunk bragging trump staffer started russian c...</td>\n",
       "    </tr>\n",
       "    <tr>\n",
       "      <th>2</th>\n",
       "      <td>0</td>\n",
       "      <td>sheriff david clarke becomes internet joke thr...</td>\n",
       "    </tr>\n",
       "    <tr>\n",
       "      <th>3</th>\n",
       "      <td>0</td>\n",
       "      <td>trump obsessed even obamas name coded website ...</td>\n",
       "    </tr>\n",
       "    <tr>\n",
       "      <th>4</th>\n",
       "      <td>0</td>\n",
       "      <td>pope francis called donald trump christmas spe...</td>\n",
       "    </tr>\n",
       "    <tr>\n",
       "      <th>...</th>\n",
       "      <td>...</td>\n",
       "      <td>...</td>\n",
       "    </tr>\n",
       "    <tr>\n",
       "      <th>44893</th>\n",
       "      <td>1</td>\n",
       "      <td>fully committed nato backs new us approach afg...</td>\n",
       "    </tr>\n",
       "    <tr>\n",
       "      <th>44894</th>\n",
       "      <td>1</td>\n",
       "      <td>lexisnexis withdrew two products chinese marke...</td>\n",
       "    </tr>\n",
       "    <tr>\n",
       "      <th>44895</th>\n",
       "      <td>1</td>\n",
       "      <td>minsk cultural hub becomes authorities minsk r...</td>\n",
       "    </tr>\n",
       "    <tr>\n",
       "      <th>44896</th>\n",
       "      <td>1</td>\n",
       "      <td>vatican upbeat possibility pope francis visiti...</td>\n",
       "    </tr>\n",
       "    <tr>\n",
       "      <th>44897</th>\n",
       "      <td>1</td>\n",
       "      <td>indonesia buy 114 billion worth russian jets j...</td>\n",
       "    </tr>\n",
       "  </tbody>\n",
       "</table>\n",
       "<p>44898 rows × 2 columns</p>\n",
       "</div>"
      ],
      "text/plain": [
       "       label                                            content\n",
       "0          0  donald trump sends embarrassing new years eve ...\n",
       "1          0  drunk bragging trump staffer started russian c...\n",
       "2          0  sheriff david clarke becomes internet joke thr...\n",
       "3          0  trump obsessed even obamas name coded website ...\n",
       "4          0  pope francis called donald trump christmas spe...\n",
       "...      ...                                                ...\n",
       "44893      1  fully committed nato backs new us approach afg...\n",
       "44894      1  lexisnexis withdrew two products chinese marke...\n",
       "44895      1  minsk cultural hub becomes authorities minsk r...\n",
       "44896      1  vatican upbeat possibility pope francis visiti...\n",
       "44897      1  indonesia buy 114 billion worth russian jets j...\n",
       "\n",
       "[44898 rows x 2 columns]"
      ]
     },
     "execution_count": 11,
     "metadata": {},
     "output_type": "execute_result"
    }
   ],
   "source": [
    "#Apply preprocessing function to data\n",
    "preprocessed_data['content'] = preprocessed_data['content'].apply(preprocessing)\n",
    "\n",
    "#Check to make sure it looks right\n",
    "preprocessed_data"
   ]
  },
  {
   "cell_type": "code",
   "execution_count": 12,
   "id": "7e6c3ba4",
   "metadata": {},
   "outputs": [
    {
     "data": {
      "text/html": [
       "<div>\n",
       "<style scoped>\n",
       "    .dataframe tbody tr th:only-of-type {\n",
       "        vertical-align: middle;\n",
       "    }\n",
       "\n",
       "    .dataframe tbody tr th {\n",
       "        vertical-align: top;\n",
       "    }\n",
       "\n",
       "    .dataframe thead th {\n",
       "        text-align: right;\n",
       "    }\n",
       "</style>\n",
       "<table border=\"1\" class=\"dataframe\">\n",
       "  <thead>\n",
       "    <tr style=\"text-align: right;\">\n",
       "      <th></th>\n",
       "      <th>label</th>\n",
       "      <th>content</th>\n",
       "    </tr>\n",
       "  </thead>\n",
       "  <tbody>\n",
       "    <tr>\n",
       "      <th>0</th>\n",
       "      <td>0</td>\n",
       "      <td>donald trump sends embarrassing new years eve ...</td>\n",
       "    </tr>\n",
       "    <tr>\n",
       "      <th>1</th>\n",
       "      <td>0</td>\n",
       "      <td>drunk bragging trump staffer started russian c...</td>\n",
       "    </tr>\n",
       "    <tr>\n",
       "      <th>2</th>\n",
       "      <td>0</td>\n",
       "      <td>sheriff david clarke becomes internet joke thr...</td>\n",
       "    </tr>\n",
       "    <tr>\n",
       "      <th>3</th>\n",
       "      <td>0</td>\n",
       "      <td>trump obsessed even obamas name coded website ...</td>\n",
       "    </tr>\n",
       "    <tr>\n",
       "      <th>4</th>\n",
       "      <td>0</td>\n",
       "      <td>pope francis called donald trump christmas spe...</td>\n",
       "    </tr>\n",
       "    <tr>\n",
       "      <th>...</th>\n",
       "      <td>...</td>\n",
       "      <td>...</td>\n",
       "    </tr>\n",
       "    <tr>\n",
       "      <th>44893</th>\n",
       "      <td>1</td>\n",
       "      <td>fully committed nato backs new us approach afg...</td>\n",
       "    </tr>\n",
       "    <tr>\n",
       "      <th>44894</th>\n",
       "      <td>1</td>\n",
       "      <td>lexisnexis withdrew two products chinese marke...</td>\n",
       "    </tr>\n",
       "    <tr>\n",
       "      <th>44895</th>\n",
       "      <td>1</td>\n",
       "      <td>minsk cultural hub becomes authorities minsk r...</td>\n",
       "    </tr>\n",
       "    <tr>\n",
       "      <th>44896</th>\n",
       "      <td>1</td>\n",
       "      <td>vatican upbeat possibility pope francis visiti...</td>\n",
       "    </tr>\n",
       "    <tr>\n",
       "      <th>44897</th>\n",
       "      <td>1</td>\n",
       "      <td>indonesia buy 114 billion worth russian jets j...</td>\n",
       "    </tr>\n",
       "  </tbody>\n",
       "</table>\n",
       "<p>44898 rows × 2 columns</p>\n",
       "</div>"
      ],
      "text/plain": [
       "       label                                            content\n",
       "0          0  donald trump sends embarrassing new years eve ...\n",
       "1          0  drunk bragging trump staffer started russian c...\n",
       "2          0  sheriff david clarke becomes internet joke thr...\n",
       "3          0  trump obsessed even obamas name coded website ...\n",
       "4          0  pope francis called donald trump christmas spe...\n",
       "...      ...                                                ...\n",
       "44893      1  fully committed nato backs new us approach afg...\n",
       "44894      1  lexisnexis withdrew two products chinese marke...\n",
       "44895      1  minsk cultural hub becomes authorities minsk r...\n",
       "44896      1  vatican upbeat possibility pope francis visiti...\n",
       "44897      1  indonesia buy 114 billion worth russian jets j...\n",
       "\n",
       "[44898 rows x 2 columns]"
      ]
     },
     "execution_count": 12,
     "metadata": {},
     "output_type": "execute_result"
    }
   ],
   "source": [
    "with_stopwords_data['content'] = with_stopwords_data['content'].apply(preprocessing_no_stopwords_removal)\n",
    "\n",
    "with_stopwords_data"
   ]
  },
  {
   "cell_type": "markdown",
   "id": "ae57da74",
   "metadata": {},
   "source": [
    "## Step 1d: Train/Validation/Test Splitting\n",
    "\n",
    "Now, we will split our cleaned data into training, validation, and testing sets. This will be useful for tuning hyperparameters and assessing model performance later on. \n",
    "\n",
    "The split we will choose is: \n",
    "- **Train**: 70%\n",
    "- **Validation**: 15%\n",
    "- **Test**: 15%"
   ]
  },
  {
   "cell_type": "code",
   "execution_count": 13,
   "id": "beabc20f",
   "metadata": {},
   "outputs": [],
   "source": [
    "#Split into features (X) and labels (y)\n",
    "X = preprocessed_data['content']\n",
    "y = preprocessed_data['label']"
   ]
  },
  {
   "cell_type": "code",
   "execution_count": 14,
   "id": "604b71fd",
   "metadata": {},
   "outputs": [],
   "source": [
    "# Split into train and temp \n",
    "train, temp_data = train_test_split(preprocessed_data, test_size=0.3, stratify=data['label'], random_state=42)\n",
    "\n",
    "# Split temp into validation & test\n",
    "val, test = train_test_split(temp_data, test_size=0.5, stratify=temp_data['label'], random_state=42)\n",
    "\n",
    "# Get features and labels for each split\n",
    "X_train_prepoc, y_train_preproc = train['content'], train['label']\n",
    "X_val_preproc, y_val_preproc = val['content'], val['label']\n",
    "X_test_preproc, y_test_preproc = test['content'], test['label']"
   ]
  },
  {
   "cell_type": "code",
   "execution_count": 15,
   "id": "c9baffb5",
   "metadata": {},
   "outputs": [
    {
     "name": "stdout",
     "output_type": "stream",
     "text": [
      "Processed Data Train, Validation, & Test Distribution\n",
      "Train Labels: label\n",
      "0    0.522973\n",
      "1    0.477027\n",
      "Name: proportion, dtype: float64\n",
      "Validation Labels: label\n",
      "0    0.52294\n",
      "1    0.47706\n",
      "Name: proportion, dtype: float64\n",
      "Test Labels: label\n",
      "0    0.523088\n",
      "1    0.476912\n",
      "Name: proportion, dtype: float64\n"
     ]
    }
   ],
   "source": [
    "# Display the distribution of Fake and Real News in nonprocessed and processed datasets after splitting\n",
    "\n",
    "print(\"Processed Data Train, Validation, & Test Distribution\")\n",
    "print(\"Train Labels:\", y_train_preproc.value_counts(normalize=True))\n",
    "print(\"Validation Labels:\", y_val_preproc.value_counts(normalize=True))\n",
    "print(\"Test Labels:\", y_test_preproc.value_counts(normalize=True))"
   ]
  },
  {
   "cell_type": "code",
   "execution_count": 16,
   "id": "4b67bb42",
   "metadata": {},
   "outputs": [],
   "source": [
    "#Split into features (X) and labels (y)\n",
    "X = with_stopwords_data['content']\n",
    "y = with_stopwords_data['label']"
   ]
  },
  {
   "cell_type": "code",
   "execution_count": 17,
   "id": "b24e5aff",
   "metadata": {},
   "outputs": [],
   "source": [
    "# Split into train and temp \n",
    "train, temp_data = train_test_split(with_stopwords_data, test_size=0.3, stratify=data['label'], random_state=42)\n",
    "\n",
    "# Split temp into validation & test\n",
    "val, test = train_test_split(temp_data, test_size=0.5, stratify=temp_data['label'], random_state=42)\n",
    "\n",
    "# Get features and labels for each split\n",
    "X_train_stopword, y_train_stopword = train['content'], train['label']\n",
    "X_val_stopword, y_val_stopword = val['content'], val['label']\n",
    "X_test_stopword, y_test_stopword = test['content'], test['label']"
   ]
  },
  {
   "cell_type": "code",
   "execution_count": 18,
   "id": "c39d50d5",
   "metadata": {},
   "outputs": [
    {
     "name": "stdout",
     "output_type": "stream",
     "text": [
      "Processed Data Train, Validation, & Test Distribution\n",
      "Train Labels: label\n",
      "0    0.522973\n",
      "1    0.477027\n",
      "Name: proportion, dtype: float64\n",
      "Validation Labels: label\n",
      "0    0.52294\n",
      "1    0.47706\n",
      "Name: proportion, dtype: float64\n",
      "Test Labels: label\n",
      "0    0.523088\n",
      "1    0.476912\n",
      "Name: proportion, dtype: float64\n"
     ]
    }
   ],
   "source": [
    "# Display the distribution of Fake and Real News in nonprocessed and processed datasets after splitting\n",
    "\n",
    "print(\"Processed Data Train, Validation, & Test Distribution\")\n",
    "print(\"Train Labels:\", y_train_stopword.value_counts(normalize=True))\n",
    "print(\"Validation Labels:\", y_val_stopword.value_counts(normalize=True))\n",
    "print(\"Test Labels:\", y_test_stopword.value_counts(normalize=True))"
   ]
  },
  {
   "cell_type": "markdown",
   "id": "b6a63064-e132-4b9d-b3f6-5725dd77e507",
   "metadata": {},
   "source": [
    "## Step 2: Trying Different N-Gram TF-IDF Vectorizers\n",
    "\n",
    "**TF-IDF** is a combination of 2 terms:\n",
    "- **Term Frequency (TF)**: how frequently a term appears in one given document ($d$), calculated as:\n",
    "$$\n",
    "\\text{TF(term, document)} = \\frac{\\text{Number of times the term appears in the document}}{\\text{Total number of terms in the document}}\n",
    "$$\n",
    "\n",
    "- **Inverse Document Frequency (IDF)**: how unique the term ($t$) is across all the documents ($d$), calculated as:\n",
    "$$\n",
    "\\text{IDF(term, corpus)} = \\log \\left( \\frac{\\text{Total number of documents}}{\\text{1 + Number of documents containing the term}} \\right)\n",
    "$$\n",
    "\n",
    "In practice, TF-IDF is a weighting technique that **gives higher weight to**:\n",
    "- **High TF score** (frequent in one document)\n",
    "- and **Low IDF score** (not too common across all documents)\n",
    "\n",
    "Here, we will experiment with different **N-Grams**, including:\n",
    "- **Bigrams** (word pairs)\n",
    "- **Trigrams** (word triplets)\n",
    "- **Character-level N-Grams** (groups of frequently occurring characters, size 3-5)\n",
    "- **Hybrid N-Gram** (a combination of word and character vectorizers)\n",
    "\n",
    "**We will fit the vectorizer on the training data only** to avoid 'cheating' (aka allowing the model to learn from the data in the validation/testing sets, which would give it an unfair advantage in later testing). We will then transform all the splits."
   ]
  },
  {
   "cell_type": "code",
   "execution_count": 19,
   "id": "b21a66a7",
   "metadata": {},
   "outputs": [],
   "source": [
    "# Trigram vectorizer WITHOUT stopwords\n",
    "vectorizer_trigrams = TfidfVectorizer(\n",
    "    ngram_range=(1, 3),      \n",
    "    stop_words='english'\n",
    ")"
   ]
  },
  {
   "cell_type": "code",
   "execution_count": 20,
   "id": "600f8544",
   "metadata": {},
   "outputs": [],
   "source": [
    "# Trigram vectorizer WITH stopwords\n",
    "vectorizer_trigrams_with_stopwords = TfidfVectorizer(\n",
    "    ngram_range=(1, 3),      \n",
    "    stop_words=None\n",
    ")"
   ]
  },
  {
   "cell_type": "code",
   "execution_count": 21,
   "id": "373fb68a",
   "metadata": {},
   "outputs": [],
   "source": [
    "# Bigram vectorizer WITHOUT stopwords\n",
    "vectorizer_bigrams = TfidfVectorizer(\n",
    "    ngram_range=(1, 2),      \n",
    "    stop_words='english'\n",
    ")"
   ]
  },
  {
   "cell_type": "code",
   "execution_count": 22,
   "id": "4b3934df",
   "metadata": {},
   "outputs": [],
   "source": [
    "# Character-level vectorizer\n",
    "vectorizer_char_level_ngrams = TfidfVectorizer(\n",
    "    analyzer='char_wb',\n",
    "    ngram_range=(3, 5)\n",
    ")"
   ]
  },
  {
   "cell_type": "code",
   "execution_count": 23,
   "id": "293e4a1c",
   "metadata": {},
   "outputs": [],
   "source": [
    "# Word-level TF-IDF (unigrams and bigrams)\n",
    "# unigrams and bigrams\n",
    "# remove stopwords for word-level\n",
    "word_vectorizer = TfidfVectorizer(\n",
    "    analyzer='word',\n",
    "    ngram_range=(1, 2),      \n",
    "    stop_words='english'     \n",
    ")\n",
    "\n",
    "# Character-level TF-IDF (trigrams to 5-grams)\n",
    "# character n-grams within word boundaries\n",
    "# char trigrams to 5-grams\n",
    "# don't remove stopwords here\n",
    "char_vectorizer = TfidfVectorizer(\n",
    "    analyzer='char_wb',      \n",
    "    ngram_range=(3, 5),      \n",
    "    stop_words=None          \n",
    ")\n",
    "\n",
    "# combine both \n",
    "hybrid_vectorizer = FeatureUnion([\n",
    "    (\"word_tfidf\", word_vectorizer),\n",
    "    (\"char_tfidf\", char_vectorizer)\n",
    "])"
   ]
  },
  {
   "cell_type": "code",
   "execution_count": 24,
   "id": "3ae05555",
   "metadata": {},
   "outputs": [],
   "source": [
    "#Fit vectorizer on training data ONLY and transform\n",
    "X_train_tfidf = vectorizer_bigrams.fit_transform(X_train_prepoc)\n",
    "\n",
    "#Transform (NO FITTING TO AVOID CHEATING) validation, test sets\n",
    "X_val_tfidf = vectorizer_bigrams.transform(X_val_preproc)\n",
    "X_test_tfidf = vectorizer_bigrams.transform(X_test_preproc)"
   ]
  },
  {
   "cell_type": "markdown",
   "id": "5442c369-09d1-4768-860e-f020d7d6c3f5",
   "metadata": {},
   "source": [
    "## Step 2b: Apply Vectorizers on Data and Assess Model"
   ]
  },
  {
   "cell_type": "code",
   "execution_count": 25,
   "id": "8242e57a",
   "metadata": {},
   "outputs": [],
   "source": [
    "# Create function for calculating and printing precision, recall, f1 score, & confusion matrix \n",
    "# (only called for test set)\n",
    "def model_evaluation(test, pred, name:string):\n",
    "    precision = precision_score(test, pred)\n",
    "    recall = recall_score(test, pred)\n",
    "    f1 = f1_score(test, pred)\n",
    "\n",
    "    print(f\"Precision: {precision}\")\n",
    "    print(f\"Recall: {recall}\")\n",
    "    print(f\"F1 Score: {f1}\")\n",
    "\n",
    "    print(f\"\\n{name} Classification Report:\")\n",
    "    print(classification_report(test, pred))\n",
    "\n",
    "    cm = confusion_matrix(test, pred)\n",
    "    plt.figure(figsize=(8, 6))\n",
    "    sns.heatmap(cm, annot=True, fmt='d', cmap='Reds')\n",
    "    plt.xlabel(f'Predicted Labels ({name})')\n",
    "    plt.ylabel('True Labels')\n",
    "    plt.title(f'{name} Confusion Matrix')\n",
    "    plt.show()"
   ]
  },
  {
   "cell_type": "markdown",
   "id": "431d6ee1-f0cb-4ca6-b34c-6d6edd80757e",
   "metadata": {},
   "source": [
    "### Bigram TF-IDF (No Stopwords)"
   ]
  },
  {
   "cell_type": "code",
   "execution_count": 26,
   "id": "300e29b6",
   "metadata": {},
   "outputs": [
    {
     "name": "stdout",
     "output_type": "stream",
     "text": [
      "Precision: 0.9925581395348837\n",
      "Recall: 0.9965753424657534\n",
      "F1 Score: 0.994562684480348\n",
      "\n",
      "SVM Classification Report:\n",
      "              precision    recall  f1-score   support\n",
      "\n",
      "           0       1.00      0.99      1.00      3523\n",
      "           1       0.99      1.00      0.99      3212\n",
      "\n",
      "    accuracy                           0.99      6735\n",
      "   macro avg       0.99      0.99      0.99      6735\n",
      "weighted avg       0.99      0.99      0.99      6735\n",
      "\n"
     ]
    },
    {
     "data": {
      "image/png": "[encoded data removed]",
      "text/plain": [
       "<Figure size 800x600 with 2 Axes>"
      ]
     },
     "metadata": {},
     "output_type": "display_data"
    },
    {
     "name": "stdout",
     "output_type": "stream",
     "text": [
      "SVM (Bigram TF-IDF no stopwords) Validation Classification Report:\n",
      "              precision    recall  f1-score   support\n",
      "\n",
      "           0       1.00      0.99      1.00      3522\n",
      "           1       0.99      1.00      0.99      3213\n",
      "\n",
      "    accuracy                           1.00      6735\n",
      "   macro avg       1.00      1.00      1.00      6735\n",
      "weighted avg       1.00      1.00      1.00      6735\n",
      "\n"
     ]
    },
    {
     "data": {
      "image/png": "[encoded data removed]",
      "text/plain": [
       "<Figure size 800x600 with 2 Axes>"
      ]
     },
     "metadata": {},
     "output_type": "display_data"
    }
   ],
   "source": [
    "svm_model = SVC(kernel='linear', C=1, random_state=42)\n",
    "svm_model.fit(X_train_tfidf, y_train_preproc)  \n",
    "\n",
    "# Predictions on the test set\n",
    "y_pred = svm_model.predict(X_test_tfidf)\n",
    "\n",
    "# Evaluate model\n",
    "model_evaluation(y_test_preproc, y_pred, \"SVM\")\n",
    "\n",
    "# Validation set evaluation\n",
    "y_val_pred = svm_model.predict(X_val_tfidf)\n",
    "print(\"SVM (Bigram TF-IDF no stopwords) Validation Classification Report:\")\n",
    "print(classification_report(y_val_preproc, y_val_pred))\n",
    "\n",
    "cm_val = confusion_matrix(y_val_preproc, y_val_pred)\n",
    "plt.figure(figsize=(8, 6))\n",
    "sns.heatmap(cm_val, annot=True, fmt='d', cmap='Greens')\n",
    "plt.xlabel('Predicted Labels')\n",
    "plt.ylabel('True Labels')\n",
    "plt.title('SVM (Bigram TF-IDF no stopwords) Validation Confusion Matrix')\n",
    "plt.show()"
   ]
  },
  {
   "cell_type": "markdown",
   "id": "9c897a0d-32d9-4153-b029-52892c7f4cbf",
   "metadata": {},
   "source": [
    "### Trigram TF-IDF (No Stopwords)"
   ]
  },
  {
   "cell_type": "code",
   "execution_count": 27,
   "id": "fc60a3aa",
   "metadata": {},
   "outputs": [],
   "source": [
    "#Fit vectorizer on training data ONLY and transform\n",
    "X_train_tfidf = vectorizer_trigrams.fit_transform(X_train_prepoc)\n",
    "\n",
    "#Transform (NO FITTING TO AVOID CHEATING) validation, test sets\n",
    "X_val_tfidf = vectorizer_trigrams.transform(X_val_preproc)\n",
    "X_test_tfidf = vectorizer_trigrams.transform(X_test_preproc)"
   ]
  },
  {
   "cell_type": "code",
   "execution_count": 28,
   "id": "4b1d3f9f",
   "metadata": {},
   "outputs": [
    {
     "name": "stdout",
     "output_type": "stream",
     "text": [
      "Precision: 0.9888820259419395\n",
      "Recall: 0.9968866749688667\n",
      "F1 Score: 0.9928682170542635\n",
      "\n",
      "SVM Classification Report:\n",
      "              precision    recall  f1-score   support\n",
      "\n",
      "           0       1.00      0.99      0.99      3523\n",
      "           1       0.99      1.00      0.99      3212\n",
      "\n",
      "    accuracy                           0.99      6735\n",
      "   macro avg       0.99      0.99      0.99      6735\n",
      "weighted avg       0.99      0.99      0.99      6735\n",
      "\n"
     ]
    },
    {
     "data": {
      "image/png": "[encoded data removed]",
      "text/plain": [
       "<Figure size 800x600 with 2 Axes>"
      ]
     },
     "metadata": {},
     "output_type": "display_data"
    },
    {
     "name": "stdout",
     "output_type": "stream",
     "text": [
      "SVM (Trigram TF-IDF no stopwords) Validation Classification Report:\n",
      "              precision    recall  f1-score   support\n",
      "\n",
      "           0       1.00      0.99      0.99      3522\n",
      "           1       0.99      1.00      0.99      3213\n",
      "\n",
      "    accuracy                           0.99      6735\n",
      "   macro avg       0.99      0.99      0.99      6735\n",
      "weighted avg       0.99      0.99      0.99      6735\n",
      "\n"
     ]
    },
    {
     "data": {
      "image/png": "[encoded data removed]",
      "text/plain": [
       "<Figure size 800x600 with 2 Axes>"
      ]
     },
     "metadata": {},
     "output_type": "display_data"
    }
   ],
   "source": [
    "svm_model = SVC(kernel='linear', C=1, random_state=42)\n",
    "svm_model.fit(X_train_tfidf, y_train_preproc)  \n",
    "\n",
    "# Predictions on the test set\n",
    "y_pred = svm_model.predict(X_test_tfidf)\n",
    "\n",
    "# Evaluate model\n",
    "model_evaluation(y_test_preproc, y_pred, \"SVM\")\n",
    "\n",
    "# Validation set evaluation\n",
    "y_val_pred = svm_model.predict(X_val_tfidf)\n",
    "print(\"SVM (Trigram TF-IDF no stopwords) Validation Classification Report:\")\n",
    "print(classification_report(y_val_preproc, y_val_pred))\n",
    "\n",
    "cm_val = confusion_matrix(y_val_preproc, y_val_pred)\n",
    "plt.figure(figsize=(8, 6))\n",
    "sns.heatmap(cm_val, annot=True, fmt='d', cmap='Greens')\n",
    "plt.xlabel('Predicted Labels')\n",
    "plt.ylabel('True Labels')\n",
    "plt.title('SVM (Trigram TF-IDF no stopwords) Validation Confusion Matrix')\n",
    "plt.show()"
   ]
  },
  {
   "cell_type": "markdown",
   "id": "4a6178be-05a8-4b67-933d-5573b1919832",
   "metadata": {},
   "source": [
    "## Trigram TF-IDF (With Stopwords)"
   ]
  },
  {
   "cell_type": "code",
   "execution_count": 29,
   "id": "cb4c06c0",
   "metadata": {},
   "outputs": [],
   "source": [
    "#Fit vectorizer on training data ONLY and transform\n",
    "X_train_tfidf = vectorizer_trigrams_with_stopwords.fit_transform(X_train_stopword)\n",
    "\n",
    "#Transform (NO FITTING TO AVOID CHEATING) validation, test sets\n",
    "X_val_tfidf = vectorizer_trigrams_with_stopwords.transform(X_val_stopword)\n",
    "X_test_tfidf = vectorizer_trigrams_with_stopwords.transform(X_test_stopword)"
   ]
  },
  {
   "cell_type": "code",
   "execution_count": 30,
   "id": "4291d2a6",
   "metadata": {},
   "outputs": [
    {
     "name": "stdout",
     "output_type": "stream",
     "text": [
      "Precision: 0.9891941957394258\n",
      "Recall: 0.9975093399750934\n",
      "F1 Score: 0.9933343667648427\n",
      "\n",
      "SVM Classification Report:\n",
      "              precision    recall  f1-score   support\n",
      "\n",
      "           0       1.00      0.99      0.99      3523\n",
      "           1       0.99      1.00      0.99      3212\n",
      "\n",
      "    accuracy                           0.99      6735\n",
      "   macro avg       0.99      0.99      0.99      6735\n",
      "weighted avg       0.99      0.99      0.99      6735\n",
      "\n"
     ]
    },
    {
     "data": {
      "image/png": "[encoded data removed]",
      "text/plain": [
       "<Figure size 800x600 with 2 Axes>"
      ]
     },
     "metadata": {},
     "output_type": "display_data"
    },
    {
     "name": "stdout",
     "output_type": "stream",
     "text": [
      "Logistic Regression (Trigram TF-IDF with stopwords) Validation Classification Report:\n",
      "              precision    recall  f1-score   support\n",
      "\n",
      "           0       1.00      0.99      0.99      3522\n",
      "           1       0.99      1.00      0.99      3213\n",
      "\n",
      "    accuracy                           0.99      6735\n",
      "   macro avg       0.99      0.99      0.99      6735\n",
      "weighted avg       0.99      0.99      0.99      6735\n",
      "\n"
     ]
    },
    {
     "data": {
      "image/png": "[encoded data removed]",
      "text/plain": [
       "<Figure size 800x600 with 2 Axes>"
      ]
     },
     "metadata": {},
     "output_type": "display_data"
    }
   ],
   "source": [
    "svm_model = SVC(kernel='linear', C=1, random_state=42)\n",
    "svm_model.fit(X_train_tfidf, y_train_stopword)  \n",
    "\n",
    "# Predictions on the test set\n",
    "y_pred = svm_model.predict(X_test_tfidf)\n",
    "\n",
    "# Evaluate model\n",
    "model_evaluation(y_test_stopword, y_pred, \"SVM\")\n",
    "\n",
    "# Validation set evaluation\n",
    "y_val_pred = svm_model.predict(X_val_tfidf)\n",
    "print(\"Logistic Regression (Trigram TF-IDF with stopwords) Validation Classification Report:\")\n",
    "print(classification_report(y_val_stopword, y_val_pred))\n",
    "\n",
    "cm_val = confusion_matrix(y_val_stopword, y_val_pred)\n",
    "plt.figure(figsize=(8, 6))\n",
    "sns.heatmap(cm_val, annot=True, fmt='d', cmap='Greens')\n",
    "plt.xlabel('Predicted Labels')\n",
    "plt.ylabel('True Labels')\n",
    "plt.title('Logistic Regression (Trigram TF-IDF with stopwords) Validation Confusion Matrix')\n",
    "plt.show()"
   ]
  },
  {
   "cell_type": "markdown",
   "id": "d648994c-dde0-4048-86b0-7ae0242f00e9",
   "metadata": {},
   "source": [
    "## Character-Level TF-IDF (With Stopwords)"
   ]
  },
  {
   "cell_type": "code",
   "execution_count": 31,
   "id": "1fed2252",
   "metadata": {},
   "outputs": [],
   "source": [
    "#Fit vectorizer on training data ONLY and transform\n",
    "X_train_tfidf = vectorizer_char_level_ngrams.fit_transform(X_train_stopword)\n",
    "\n",
    "#Transform (NO FITTING TO AVOID CHEATING) validation, test sets\n",
    "X_val_tfidf = vectorizer_char_level_ngrams.transform(X_val_stopword)\n",
    "X_test_tfidf = vectorizer_char_level_ngrams.transform(X_test_stopword)"
   ]
  },
  {
   "cell_type": "code",
   "execution_count": 32,
   "id": "7250f9e9",
   "metadata": {},
   "outputs": [
    {
     "name": "stdout",
     "output_type": "stream",
     "text": [
      "Precision: 0.9944186046511628\n",
      "Recall: 0.9984433374844334\n",
      "F1 Score: 0.9964269069442286\n",
      "\n",
      "SVM Classification Report:\n",
      "              precision    recall  f1-score   support\n",
      "\n",
      "           0       1.00      0.99      1.00      3523\n",
      "           1       0.99      1.00      1.00      3212\n",
      "\n",
      "    accuracy                           1.00      6735\n",
      "   macro avg       1.00      1.00      1.00      6735\n",
      "weighted avg       1.00      1.00      1.00      6735\n",
      "\n"
     ]
    },
    {
     "data": {
      "image/png": "[encoded data removed]",
      "text/plain": [
       "<Figure size 800x600 with 2 Axes>"
      ]
     },
     "metadata": {},
     "output_type": "display_data"
    },
    {
     "name": "stdout",
     "output_type": "stream",
     "text": [
      "SVM (char_level_ngrams with stopwords) Validation Classification Report:\n",
      "              precision    recall  f1-score   support\n",
      "\n",
      "           0       1.00      1.00      1.00      3522\n",
      "           1       1.00      1.00      1.00      3213\n",
      "\n",
      "    accuracy                           1.00      6735\n",
      "   macro avg       1.00      1.00      1.00      6735\n",
      "weighted avg       1.00      1.00      1.00      6735\n",
      "\n"
     ]
    },
    {
     "data": {
      "image/png": "[encoded data removed]",
      "text/plain": [
       "<Figure size 800x600 with 2 Axes>"
      ]
     },
     "metadata": {},
     "output_type": "display_data"
    }
   ],
   "source": [
    "svm_model = SVC(kernel='linear', C=1, random_state=42)\n",
    "svm_model.fit(X_train_tfidf, y_train_stopword)  \n",
    "\n",
    "# Predictions on the test set\n",
    "y_pred = svm_model.predict(X_test_tfidf)\n",
    "\n",
    "# Evaluate model\n",
    "model_evaluation(y_test_stopword, y_pred, \"SVM\")\n",
    "\n",
    "# Validation set evaluation\n",
    "y_val_pred = svm_model.predict(X_val_tfidf)\n",
    "print(\"SVM (char_level_ngrams with stopwords) Validation Classification Report:\")\n",
    "print(classification_report(y_val_stopword, y_val_pred))\n",
    "\n",
    "cm_val = confusion_matrix(y_val_stopword, y_val_pred)\n",
    "plt.figure(figsize=(8, 6))\n",
    "sns.heatmap(cm_val, annot=True, fmt='d', cmap='Greens')\n",
    "plt.xlabel('Predicted Labels')\n",
    "plt.ylabel('True Labels')\n",
    "plt.title('SVM (char_level_ngrams with stopwords) Validation Confusion Matrix')\n",
    "plt.show()"
   ]
  },
  {
   "cell_type": "markdown",
   "id": "8571e904-6bc8-4a7c-bc6b-2cacaada37e1",
   "metadata": {},
   "source": [
    "### Hybrid TF-IDF (Without Stopwords)"
   ]
  },
  {
   "cell_type": "code",
   "execution_count": 33,
   "id": "a151e9dd",
   "metadata": {},
   "outputs": [],
   "source": [
    "#Fit vectorizer on training data ONLY and transform\n",
    "X_train_tfidf = hybrid_vectorizer.fit_transform(X_train_stopword)\n",
    "\n",
    "#Transform (NO FITTING TO AVOID CHEATING) validation, test sets\n",
    "X_val_tfidf = hybrid_vectorizer.transform(X_val_stopword)\n",
    "X_test_tfidf = hybrid_vectorizer.transform(X_test_stopword)"
   ]
  },
  {
   "cell_type": "code",
   "execution_count": 34,
   "id": "42427f80",
   "metadata": {},
   "outputs": [
    {
     "name": "stdout",
     "output_type": "stream",
     "text": [
      "Precision: 0.9956535237503881\n",
      "Recall: 0.9984433374844334\n",
      "F1 Score: 0.9970464790921809\n",
      "\n",
      "SVM Classification Report:\n",
      "              precision    recall  f1-score   support\n",
      "\n",
      "           0       1.00      1.00      1.00      3523\n",
      "           1       1.00      1.00      1.00      3212\n",
      "\n",
      "    accuracy                           1.00      6735\n",
      "   macro avg       1.00      1.00      1.00      6735\n",
      "weighted avg       1.00      1.00      1.00      6735\n",
      "\n"
     ]
    },
    {
     "data": {
      "image/png": "[encoded data removed]",
      "text/plain": [
       "<Figure size 800x600 with 2 Axes>"
      ]
     },
     "metadata": {},
     "output_type": "display_data"
    },
    {
     "name": "stdout",
     "output_type": "stream",
     "text": [
      "SVM (Hybrid Vectorizer) Validation Classification Report:\n",
      "              precision    recall  f1-score   support\n",
      "\n",
      "           0       1.00      1.00      1.00      3522\n",
      "           1       1.00      1.00      1.00      3213\n",
      "\n",
      "    accuracy                           1.00      6735\n",
      "   macro avg       1.00      1.00      1.00      6735\n",
      "weighted avg       1.00      1.00      1.00      6735\n",
      "\n"
     ]
    },
    {
     "data": {
      "image/png": "[encoded data removed]",
      "text/plain": [
       "<Figure size 800x600 with 2 Axes>"
      ]
     },
     "metadata": {},
     "output_type": "display_data"
    }
   ],
   "source": [
    "svm_model = SVC(kernel='linear', C=1, random_state=42)\n",
    "svm_model.fit(X_train_tfidf, y_train_stopword)  \n",
    "\n",
    "# Predictions on the test set\n",
    "y_pred = svm_model.predict(X_test_tfidf)\n",
    "\n",
    "# Evaluate model\n",
    "model_evaluation(y_test_stopword, y_pred, \"SVM\")\n",
    "\n",
    "# Validation set evaluation\n",
    "y_val_pred = svm_model.predict(X_val_tfidf)\n",
    "print(\"SVM (Hybrid Vectorizer) Validation Classification Report:\")\n",
    "print(classification_report(y_val_stopword, y_val_pred))\n",
    "\n",
    "cm_val = confusion_matrix(y_val_stopword, y_val_pred)\n",
    "plt.figure(figsize=(8, 6))\n",
    "sns.heatmap(cm_val, annot=True, fmt='d', cmap='Greens')\n",
    "plt.xlabel('Predicted Labels')\n",
    "plt.ylabel('True Labels')\n",
    "plt.title('SVM (Hybrid Vectorizer) Validation Confusion Matrix')\n",
    "plt.show()"
   ]
  }
 ],
 "metadata": {
  "kernelspec": {
   "display_name": "Python [conda env:base] *",
   "language": "python",
   "name": "conda-base-py"
  },
  "language_info": {
   "codemirror_mode": {
    "name": "ipython",
    "version": 3
   },
   "file_extension": ".py",
   "mimetype": "text/x-python",
   "name": "python",
   "nbconvert_exporter": "python",
   "pygments_lexer": "ipython3",
   "version": "3.12.7"
  }
 },
 "nbformat": 4,
 "nbformat_minor": 5
}
